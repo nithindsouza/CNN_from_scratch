{
  "nbformat": 4,
  "nbformat_minor": 0,
  "metadata": {
    "colab": {
      "name": "CNN_MSRF.ipynb",
      "provenance": [],
      "authorship_tag": "ABX9TyMeuW4mInrSX6/lFKvYt2Ro",
      "include_colab_link": true
    },
    "kernelspec": {
      "name": "python3",
      "display_name": "Python 3"
    },
    "language_info": {
      "name": "python"
    }
  },
  "cells": [
    {
      "cell_type": "markdown",
      "metadata": {
        "id": "view-in-github",
        "colab_type": "text"
      },
      "source": [
        "<a href=\"https://colab.research.google.com/github/nithindsouza/CNN_from_scratch/blob/main/CNN_MSRF.ipynb\" target=\"_parent\"><img src=\"https://colab.research.google.com/assets/colab-badge.svg\" alt=\"Open In Colab\"/></a>"
      ]
    },
    {
      "cell_type": "code",
      "metadata": {
        "id": "Uh29TTTj4aPB"
      },
      "source": [
        "#required packages\n",
        "import numpy as np\n",
        "from keras.datasets import mnist\n",
        "from keras.utils import np_utils\n",
        "from scipy import signal"
      ],
      "execution_count": null,
      "outputs": []
    },
    {
      "cell_type": "code",
      "metadata": {
        "id": "gUfbioMr4rSt"
      },
      "source": [
        "class Layer:\n",
        "    def __init__(self):\n",
        "        self.input = None\n",
        "        self.output = None\n",
        "\n",
        "    def forward(self, input):\n",
        "        # TODO: return output\n",
        "        pass\n",
        "\n",
        "    def backward(self, output_gradient, learning_rate):\n",
        "        # TODO: update parameters and return input gradient\n",
        "        pass"
      ],
      "execution_count": null,
      "outputs": []
    },
    {
      "cell_type": "code",
      "metadata": {
        "id": "oWXQBwgI41gm"
      },
      "source": [
        "class Dense(Layer):\n",
        "    def __init__(self, input_size, output_size):\n",
        "        self.weights = np.random.randn(output_size, input_size)\n",
        "        self.bias = np.random.randn(output_size, 1)\n",
        "\n",
        "    def forward(self, input):\n",
        "        self.input = input\n",
        "        return np.dot(self.weights, self.input) + self.bias\n",
        "\n",
        "    def backward(self, output_gradient, learning_rate):\n",
        "        weights_gradient = np.dot(output_gradient, self.input.T)\n",
        "        self.weights -= learning_rate * weights_gradient\n",
        "        self.bias -= learning_rate * output_gradient\n",
        "        return np.dot(self.weights.T, output_gradient)"
      ],
      "execution_count": null,
      "outputs": []
    },
    {
      "cell_type": "code",
      "metadata": {
        "id": "rRvnDcCS45iV"
      },
      "source": [
        "class Convolutional(Layer):\n",
        "    def __init__(self, input_shape, kernel_size, depth):\n",
        "        input_depth, input_height, input_width = input_shape\n",
        "        self.depth = depth\n",
        "        self.input_shape = input_shape\n",
        "        self.input_depth = input_depth\n",
        "        self.output_shape = (depth, input_height - kernel_size + 1, input_width - kernel_size + 1)\n",
        "        self.kernels_shape = (depth, input_depth, kernel_size, kernel_size)\n",
        "        self.kernels = np.random.randn(*self.kernels_shape)\n",
        "        self.biases = np.random.randn(*self.output_shape)\n",
        "\n",
        "    def forward(self, input):\n",
        "        self.input = input\n",
        "        self.output = np.copy(self.biases)\n",
        "        for i in range(self.depth):\n",
        "            for j in range(self.input_depth):\n",
        "                self.output[i] += signal.correlate2d(self.input[j], self.kernels[i, j], \"valid\")\n",
        "        return self.output\n",
        "\n",
        "    def backward(self, output_gradient, learning_rate):\n",
        "        kernels_gradient = np.zeros(self.kernels_shape)\n",
        "        input_gradient = np.zeros(self.input_shape)\n",
        "\n",
        "        for i in range(self.depth):\n",
        "            for j in range(self.input_depth):\n",
        "                kernels_gradient[i, j] = signal.correlate2d(self.input[j], output_gradient[i], \"valid\")\n",
        "                input_gradient[j] += signal.convolve2d(output_gradient[i], self.kernels[i, j], \"full\")\n",
        "\n",
        "        self.kernels -= learning_rate * kernels_gradient\n",
        "        self.biases -= learning_rate * output_gradient\n",
        "        return input_gradient"
      ],
      "execution_count": null,
      "outputs": []
    },
    {
      "cell_type": "code",
      "metadata": {
        "id": "s6oNa_7E5DUl"
      },
      "source": [
        "class Reshape(Layer):\n",
        "    def __init__(self, input_shape, output_shape):\n",
        "        self.input_shape = input_shape\n",
        "        self.output_shape = output_shape\n",
        "\n",
        "    def forward(self, input):\n",
        "        return np.reshape(input, self.output_shape)\n",
        "\n",
        "    def backward(self, output_gradient, learning_rate):\n",
        "        return np.reshape(output_gradient, self.input_shape)"
      ],
      "execution_count": null,
      "outputs": []
    },
    {
      "cell_type": "code",
      "metadata": {
        "id": "ztFgE3v26Hmn"
      },
      "source": [
        "class Activation(Layer):\n",
        "    def __init__(self, activation, activation_prime):\n",
        "        self.activation = activation\n",
        "        self.activation_prime = activation_prime\n",
        "\n",
        "    def forward(self, input):\n",
        "        self.input = input\n",
        "        return self.activation(self.input)\n",
        "\n",
        "    def backward(self, output_gradient, learning_rate):\n",
        "        return np.multiply(output_gradient, self.activation_prime(self.input))"
      ],
      "execution_count": null,
      "outputs": []
    },
    {
      "cell_type": "code",
      "metadata": {
        "id": "paweauuR5IK0"
      },
      "source": [
        "class Tanh(Activation):\n",
        "    def __init__(self):\n",
        "        def tanh(x):\n",
        "            return np.tanh(x)\n",
        "\n",
        "        def tanh_prime(x):\n",
        "            return 1 - np.tanh(x) ** 2\n",
        "\n",
        "        super().__init__(tanh, tanh_prime)\n",
        "\n",
        "class Sigmoid(Activation):\n",
        "    def __init__(self):\n",
        "        def sigmoid(x):\n",
        "            return 1 / (1 + np.exp(-x))\n",
        "\n",
        "        def sigmoid_prime(x):\n",
        "            s = sigmoid(x)\n",
        "            return s * (1 - s)\n",
        "\n",
        "        super().__init__(sigmoid, sigmoid_prime)"
      ],
      "execution_count": null,
      "outputs": []
    },
    {
      "cell_type": "code",
      "metadata": {
        "id": "ySLAALAL5PRl"
      },
      "source": [
        "def mse(y_true, y_pred):\n",
        "    return np.mean(np.power(y_true - y_pred, 2))\n",
        "\n",
        "def mse_prime(y_true, y_pred):\n",
        "    return 2 * (y_pred - y_true) / np.size(y_true)\n",
        "\n",
        "def binary_cross_entropy(y_true, y_pred):\n",
        "    return np.mean(-y_true * np.log(y_pred) - (1 - y_true) * np.log(1 - y_pred))\n",
        "\n",
        "def binary_cross_entropy_prime(y_true, y_pred):\n",
        "    return ((1 - y_true) / (1 - y_pred) - y_true / y_pred) / np.size(y_true)"
      ],
      "execution_count": null,
      "outputs": []
    },
    {
      "cell_type": "code",
      "metadata": {
        "id": "GfluJHAv4mxN"
      },
      "source": [
        "def preprocess_data(x, y, limit):\n",
        "    zero_index = np.where(y == 0)[0][:limit]\n",
        "    one_index = np.where(y == 1)[0][:limit]\n",
        "    all_indices = np.hstack((zero_index, one_index))\n",
        "    all_indices = np.random.permutation(all_indices)\n",
        "    x, y = x[all_indices], y[all_indices]\n",
        "    x = x.reshape(len(x), 1, 28, 28)\n",
        "    x = x.astype(\"float32\") / 255\n",
        "    y = np_utils.to_categorical(y)\n",
        "    y = y.reshape(len(y), 2, 1)\n",
        "    return x, y"
      ],
      "execution_count": null,
      "outputs": []
    },
    {
      "cell_type": "code",
      "metadata": {
        "colab": {
          "base_uri": "https://localhost:8080/"
        },
        "id": "qQJUi93N5X42",
        "outputId": "1c23e9f6-deb1-4025-b5df-c64ef11ae69b"
      },
      "source": [
        "# load MNIST from server, limit to 100 images per class since we're not training on GPU\n",
        "(x_train, y_train), (x_test, y_test) = mnist.load_data()\n",
        "x_train, y_train = preprocess_data(x_train, y_train, 100)\n",
        "x_test, y_test = preprocess_data(x_test, y_test, 100)"
      ],
      "execution_count": null,
      "outputs": [
        {
          "output_type": "stream",
          "name": "stdout",
          "text": [
            "Downloading data from https://storage.googleapis.com/tensorflow/tf-keras-datasets/mnist.npz\n",
            "11493376/11490434 [==============================] - 0s 0us/step\n",
            "11501568/11490434 [==============================] - 0s 0us/step\n"
          ]
        }
      ]
    },
    {
      "cell_type": "code",
      "metadata": {
        "id": "NTkTrqoK5YaF"
      },
      "source": [
        "# neural network\n",
        "network = [\n",
        "    Convolutional((1, 28, 28), 3, 5),\n",
        "    Sigmoid(),\n",
        "    Reshape((5, 26, 26), (5 * 26 * 26, 1)),\n",
        "    Dense(5 * 26 * 26, 100),\n",
        "    Sigmoid(),\n",
        "    Dense(100, 2),\n",
        "    Sigmoid()\n",
        "]"
      ],
      "execution_count": null,
      "outputs": []
    },
    {
      "cell_type": "code",
      "metadata": {
        "id": "uERDLlPm5Z5H"
      },
      "source": [
        "epochs = 20\n",
        "learning_rate = 0.1"
      ],
      "execution_count": null,
      "outputs": []
    },
    {
      "cell_type": "code",
      "metadata": {
        "colab": {
          "base_uri": "https://localhost:8080/"
        },
        "id": "hdEeWz905dJl",
        "outputId": "80e05c2f-db86-407b-df67-63f581fd8bf8"
      },
      "source": [
        "# train\n",
        "for e in range(epochs):\n",
        "    error = 0\n",
        "    for x, y in zip(x_train, y_train):\n",
        "        # forward\n",
        "        output = x\n",
        "        for layer in network:\n",
        "            output = layer.forward(output)\n",
        "\n",
        "        # error\n",
        "        error += binary_cross_entropy(y, output)\n",
        "\n",
        "        # backward\n",
        "        grad = binary_cross_entropy_prime(y, output)\n",
        "        for layer in reversed(network):\n",
        "            grad = layer.backward(grad, learning_rate)\n",
        "\n",
        "    error /= len(x_train)\n",
        "    print(f\"{e + 1}/{epochs}, error={error}\")"
      ],
      "execution_count": null,
      "outputs": [
        {
          "output_type": "stream",
          "name": "stdout",
          "text": [
            "1/20, error=0.4599842353024583\n",
            "2/20, error=0.06278371220520308\n",
            "3/20, error=0.06294236306837521\n",
            "4/20, error=0.027674941307124494\n",
            "5/20, error=0.012716922877749655\n",
            "6/20, error=0.008839235855385633\n",
            "7/20, error=0.006614334003583383\n",
            "8/20, error=0.005628417693143245\n",
            "9/20, error=0.0049652960824143255\n",
            "10/20, error=0.004369684481281531\n",
            "11/20, error=0.003866036093928791\n",
            "12/20, error=0.003429537787271076\n",
            "13/20, error=0.0030038999195898574\n",
            "14/20, error=0.0025693837886903896\n",
            "15/20, error=0.0022509523687647597\n",
            "16/20, error=0.0020586995952372317\n",
            "17/20, error=0.001965958841519137\n",
            "18/20, error=0.0018697058094616283\n",
            "19/20, error=0.0017827104645714736\n",
            "20/20, error=0.0017048704616795648\n"
          ]
        }
      ]
    },
    {
      "cell_type": "code",
      "metadata": {
        "colab": {
          "base_uri": "https://localhost:8080/"
        },
        "id": "s1RvfeUi5guF",
        "outputId": "3ad2444e-a7f4-40cf-c35f-6ce5c9e22c9c"
      },
      "source": [
        "# test\n",
        "for x, y in zip(x_test, y_test):\n",
        "    output = x\n",
        "    for layer in network:\n",
        "        output = layer.forward(output)\n",
        "    print(f\"pred: {np.argmax(output)}, true: {np.argmax(y)}\")"
      ],
      "execution_count": null,
      "outputs": [
        {
          "output_type": "stream",
          "name": "stdout",
          "text": [
            "pred: 1, true: 1\n",
            "pred: 1, true: 1\n",
            "pred: 1, true: 1\n",
            "pred: 0, true: 0\n",
            "pred: 1, true: 1\n",
            "pred: 1, true: 1\n",
            "pred: 1, true: 1\n",
            "pred: 0, true: 0\n",
            "pred: 0, true: 0\n",
            "pred: 0, true: 0\n",
            "pred: 1, true: 1\n",
            "pred: 1, true: 1\n",
            "pred: 0, true: 0\n",
            "pred: 0, true: 0\n",
            "pred: 1, true: 1\n",
            "pred: 1, true: 1\n",
            "pred: 1, true: 1\n",
            "pred: 0, true: 0\n",
            "pred: 1, true: 1\n",
            "pred: 0, true: 0\n",
            "pred: 1, true: 1\n",
            "pred: 1, true: 1\n",
            "pred: 1, true: 1\n",
            "pred: 1, true: 1\n",
            "pred: 1, true: 1\n",
            "pred: 1, true: 1\n",
            "pred: 1, true: 1\n",
            "pred: 1, true: 1\n",
            "pred: 0, true: 0\n",
            "pred: 1, true: 1\n",
            "pred: 0, true: 0\n",
            "pred: 1, true: 1\n",
            "pred: 0, true: 0\n",
            "pred: 0, true: 0\n",
            "pred: 1, true: 1\n",
            "pred: 1, true: 1\n",
            "pred: 1, true: 1\n",
            "pred: 0, true: 0\n",
            "pred: 0, true: 0\n",
            "pred: 1, true: 1\n",
            "pred: 0, true: 0\n",
            "pred: 0, true: 0\n",
            "pred: 1, true: 1\n",
            "pred: 0, true: 0\n",
            "pred: 0, true: 0\n",
            "pred: 1, true: 1\n",
            "pred: 1, true: 1\n",
            "pred: 1, true: 1\n",
            "pred: 0, true: 0\n",
            "pred: 1, true: 1\n",
            "pred: 1, true: 1\n",
            "pred: 1, true: 1\n",
            "pred: 1, true: 1\n",
            "pred: 0, true: 0\n",
            "pred: 1, true: 1\n",
            "pred: 1, true: 1\n",
            "pred: 0, true: 0\n",
            "pred: 0, true: 0\n",
            "pred: 1, true: 1\n",
            "pred: 1, true: 1\n",
            "pred: 0, true: 0\n",
            "pred: 0, true: 0\n",
            "pred: 0, true: 0\n",
            "pred: 1, true: 1\n",
            "pred: 1, true: 1\n",
            "pred: 1, true: 1\n",
            "pred: 0, true: 0\n",
            "pred: 1, true: 1\n",
            "pred: 0, true: 0\n",
            "pred: 0, true: 0\n",
            "pred: 0, true: 0\n",
            "pred: 0, true: 0\n",
            "pred: 1, true: 1\n",
            "pred: 0, true: 0\n",
            "pred: 0, true: 0\n",
            "pred: 1, true: 1\n",
            "pred: 0, true: 0\n",
            "pred: 1, true: 1\n",
            "pred: 1, true: 1\n",
            "pred: 1, true: 1\n",
            "pred: 1, true: 1\n",
            "pred: 1, true: 1\n",
            "pred: 0, true: 0\n",
            "pred: 0, true: 0\n",
            "pred: 1, true: 1\n",
            "pred: 0, true: 0\n",
            "pred: 1, true: 1\n",
            "pred: 1, true: 0\n",
            "pred: 0, true: 0\n",
            "pred: 0, true: 0\n",
            "pred: 0, true: 0\n",
            "pred: 0, true: 0\n",
            "pred: 1, true: 1\n",
            "pred: 0, true: 0\n",
            "pred: 0, true: 0\n",
            "pred: 0, true: 0\n",
            "pred: 0, true: 0\n",
            "pred: 0, true: 0\n",
            "pred: 0, true: 0\n",
            "pred: 1, true: 1\n",
            "pred: 1, true: 1\n",
            "pred: 1, true: 1\n",
            "pred: 1, true: 1\n",
            "pred: 1, true: 1\n",
            "pred: 0, true: 0\n",
            "pred: 0, true: 0\n",
            "pred: 1, true: 1\n",
            "pred: 0, true: 0\n",
            "pred: 0, true: 0\n",
            "pred: 1, true: 1\n",
            "pred: 0, true: 0\n",
            "pred: 1, true: 1\n",
            "pred: 0, true: 0\n",
            "pred: 0, true: 0\n",
            "pred: 1, true: 1\n",
            "pred: 0, true: 0\n",
            "pred: 0, true: 0\n",
            "pred: 0, true: 0\n",
            "pred: 1, true: 1\n",
            "pred: 1, true: 1\n",
            "pred: 0, true: 0\n",
            "pred: 0, true: 0\n",
            "pred: 1, true: 1\n",
            "pred: 1, true: 1\n",
            "pred: 0, true: 0\n",
            "pred: 1, true: 1\n",
            "pred: 0, true: 0\n",
            "pred: 1, true: 1\n",
            "pred: 0, true: 0\n",
            "pred: 1, true: 1\n",
            "pred: 1, true: 1\n",
            "pred: 1, true: 1\n",
            "pred: 0, true: 0\n",
            "pred: 0, true: 0\n",
            "pred: 0, true: 0\n",
            "pred: 0, true: 0\n",
            "pred: 0, true: 0\n",
            "pred: 0, true: 0\n",
            "pred: 0, true: 0\n",
            "pred: 0, true: 0\n",
            "pred: 0, true: 0\n",
            "pred: 0, true: 0\n",
            "pred: 0, true: 0\n",
            "pred: 0, true: 0\n",
            "pred: 0, true: 0\n",
            "pred: 1, true: 1\n",
            "pred: 1, true: 1\n",
            "pred: 0, true: 0\n",
            "pred: 1, true: 1\n",
            "pred: 1, true: 1\n",
            "pred: 1, true: 1\n",
            "pred: 0, true: 0\n",
            "pred: 0, true: 0\n",
            "pred: 1, true: 1\n",
            "pred: 1, true: 1\n",
            "pred: 0, true: 0\n",
            "pred: 1, true: 1\n",
            "pred: 1, true: 1\n",
            "pred: 0, true: 0\n",
            "pred: 0, true: 0\n",
            "pred: 1, true: 1\n",
            "pred: 1, true: 1\n",
            "pred: 0, true: 0\n",
            "pred: 0, true: 0\n",
            "pred: 1, true: 1\n",
            "pred: 1, true: 1\n",
            "pred: 0, true: 0\n",
            "pred: 0, true: 0\n",
            "pred: 0, true: 0\n",
            "pred: 1, true: 1\n",
            "pred: 0, true: 0\n",
            "pred: 0, true: 0\n",
            "pred: 1, true: 1\n",
            "pred: 0, true: 0\n",
            "pred: 1, true: 1\n",
            "pred: 1, true: 1\n",
            "pred: 0, true: 0\n",
            "pred: 0, true: 0\n",
            "pred: 0, true: 0\n",
            "pred: 0, true: 0\n",
            "pred: 1, true: 1\n",
            "pred: 1, true: 1\n",
            "pred: 0, true: 0\n",
            "pred: 0, true: 0\n",
            "pred: 1, true: 1\n",
            "pred: 1, true: 1\n",
            "pred: 1, true: 1\n",
            "pred: 0, true: 0\n",
            "pred: 1, true: 1\n",
            "pred: 1, true: 1\n",
            "pred: 1, true: 1\n",
            "pred: 1, true: 1\n",
            "pred: 0, true: 0\n",
            "pred: 0, true: 0\n",
            "pred: 0, true: 0\n",
            "pred: 1, true: 1\n",
            "pred: 1, true: 1\n",
            "pred: 0, true: 0\n",
            "pred: 1, true: 1\n",
            "pred: 1, true: 1\n"
          ]
        }
      ]
    }
  ]
}