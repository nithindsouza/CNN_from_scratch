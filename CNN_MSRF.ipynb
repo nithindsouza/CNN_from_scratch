{
  "nbformat": 4,
  "nbformat_minor": 0,
  "metadata": {
    "colab": {
      "name": "CNN_MSRF.ipynb",
      "provenance": [],
      "authorship_tag": "ABX9TyNCIaIP98ol4w9SlQ6UuxI5",
      "include_colab_link": true
    },
    "kernelspec": {
      "name": "python3",
      "display_name": "Python 3"
    },
    "language_info": {
      "name": "python"
    }
  },
  "cells": [
    {
      "cell_type": "markdown",
      "metadata": {
        "id": "view-in-github",
        "colab_type": "text"
      },
      "source": [
        "<a href=\"https://colab.research.google.com/github/nithindsouza/CNN_from_scratch/blob/main/CNN_MSRF.ipynb\" target=\"_parent\"><img src=\"https://colab.research.google.com/assets/colab-badge.svg\" alt=\"Open In Colab\"/></a>"
      ]
    },
    {
      "cell_type": "code",
      "metadata": {
        "id": "Uh29TTTj4aPB"
      },
      "source": [
        "#required packages\n",
        "import numpy as np\n",
        "from keras.datasets import mnist\n",
        "from keras.utils import np_utils\n",
        "from scipy import signal"
      ],
      "execution_count": 1,
      "outputs": []
    },
    {
      "cell_type": "code",
      "metadata": {
        "id": "gUfbioMr4rSt"
      },
      "source": [
        "class Layer:\n",
        "    def __init__(self):\n",
        "        self.input = None\n",
        "        self.output = None\n",
        "\n",
        "    def forward(self, input):\n",
        "        # TODO: return output\n",
        "        pass\n",
        "\n",
        "    def backward(self, output_gradient, learning_rate):\n",
        "        # TODO: update parameters and return input gradient\n",
        "        pass"
      ],
      "execution_count": 2,
      "outputs": []
    },
    {
      "cell_type": "code",
      "metadata": {
        "id": "oWXQBwgI41gm"
      },
      "source": [
        "class Dense(Layer):\n",
        "    def __init__(self, input_size, output_size):\n",
        "        self.weights = np.random.randn(output_size, input_size)\n",
        "        self.bias = np.random.randn(output_size, 1)\n",
        "\n",
        "    def forward(self, input):\n",
        "        self.input = input\n",
        "        return np.dot(self.weights, self.input) + self.bias\n",
        "\n",
        "    def backward(self, output_gradient, learning_rate):\n",
        "        weights_gradient = np.dot(output_gradient, self.input.T)\n",
        "        self.weights -= learning_rate * weights_gradient\n",
        "        self.bias -= learning_rate * output_gradient\n",
        "        return np.dot(self.weights.T, output_gradient)"
      ],
      "execution_count": 3,
      "outputs": []
    },
    {
      "cell_type": "code",
      "metadata": {
        "id": "rRvnDcCS45iV"
      },
      "source": [
        "class Convolutional(Layer):\n",
        "    def __init__(self, input_shape, kernel_size, depth):\n",
        "        input_depth, input_height, input_width = input_shape\n",
        "        self.depth = depth\n",
        "        self.input_shape = input_shape\n",
        "        self.input_depth = input_depth\n",
        "        self.output_shape = (depth, input_height - kernel_size + 1, input_width - kernel_size + 1)\n",
        "        self.kernels_shape = (depth, input_depth, kernel_size, kernel_size)\n",
        "        self.kernels = np.random.randn(*self.kernels_shape)\n",
        "        self.biases = np.random.randn(*self.output_shape)\n",
        "\n",
        "    def forward(self, input):\n",
        "        self.input = input\n",
        "        self.output = np.copy(self.biases)\n",
        "        for i in range(self.depth):\n",
        "            for j in range(self.input_depth):\n",
        "                self.output[i] += signal.correlate2d(self.input[j], self.kernels[i, j], \"valid\")\n",
        "        return self.output\n",
        "\n",
        "    def backward(self, output_gradient, learning_rate):\n",
        "        kernels_gradient = np.zeros(self.kernels_shape)\n",
        "        input_gradient = np.zeros(self.input_shape)\n",
        "\n",
        "        for i in range(self.depth):\n",
        "            for j in range(self.input_depth):\n",
        "                kernels_gradient[i, j] = signal.correlate2d(self.input[j], output_gradient[i], \"valid\")\n",
        "                input_gradient[j] += signal.convolve2d(output_gradient[i], self.kernels[i, j], \"full\")\n",
        "\n",
        "        self.kernels -= learning_rate * kernels_gradient\n",
        "        self.biases -= learning_rate * output_gradient\n",
        "        return input_gradient"
      ],
      "execution_count": 4,
      "outputs": []
    },
    {
      "cell_type": "code",
      "metadata": {
        "id": "s6oNa_7E5DUl"
      },
      "source": [
        "class Reshape(Layer):\n",
        "    def __init__(self, input_shape, output_shape):\n",
        "        self.input_shape = input_shape\n",
        "        self.output_shape = output_shape\n",
        "\n",
        "    def forward(self, input):\n",
        "        return np.reshape(input, self.output_shape)\n",
        "\n",
        "    def backward(self, output_gradient, learning_rate):\n",
        "        return np.reshape(output_gradient, self.input_shape)"
      ],
      "execution_count": 5,
      "outputs": []
    },
    {
      "cell_type": "code",
      "metadata": {
        "id": "ztFgE3v26Hmn"
      },
      "source": [
        "class Activation(Layer):\n",
        "    def __init__(self, activation, activation_prime):\n",
        "        self.activation = activation\n",
        "        self.activation_prime = activation_prime\n",
        "\n",
        "    def forward(self, input):\n",
        "        self.input = input\n",
        "        return self.activation(self.input)\n",
        "\n",
        "    def backward(self, output_gradient, learning_rate):\n",
        "        return np.multiply(output_gradient, self.activation_prime(self.input))"
      ],
      "execution_count": 6,
      "outputs": []
    },
    {
      "cell_type": "code",
      "metadata": {
        "id": "paweauuR5IK0"
      },
      "source": [
        "class Tanh(Activation):\n",
        "    def __init__(self):\n",
        "        def tanh(x):\n",
        "            return np.tanh(x)\n",
        "\n",
        "        def tanh_prime(x):\n",
        "            return 1 - np.tanh(x) ** 2\n",
        "\n",
        "        super().__init__(tanh, tanh_prime)\n",
        "\n",
        "class Sigmoid(Activation):\n",
        "    def __init__(self):\n",
        "        def sigmoid(x):\n",
        "            return 1 / (1 + np.exp(-x))\n",
        "\n",
        "        def sigmoid_prime(x):\n",
        "            s = sigmoid(x)\n",
        "            return s * (1 - s)\n",
        "\n",
        "        super().__init__(sigmoid, sigmoid_prime)"
      ],
      "execution_count": 7,
      "outputs": []
    },
    {
      "cell_type": "code",
      "metadata": {
        "id": "ySLAALAL5PRl"
      },
      "source": [
        "def mse(y_true, y_pred):\n",
        "    return np.mean(np.power(y_true - y_pred, 2))\n",
        "\n",
        "def mse_prime(y_true, y_pred):\n",
        "    return 2 * (y_pred - y_true) / np.size(y_true)\n",
        "\n",
        "def binary_cross_entropy(y_true, y_pred):\n",
        "    return np.mean(-y_true * np.log(y_pred) - (1 - y_true) * np.log(1 - y_pred))\n",
        "\n",
        "def binary_cross_entropy_prime(y_true, y_pred):\n",
        "    return ((1 - y_true) / (1 - y_pred) - y_true / y_pred) / np.size(y_true)"
      ],
      "execution_count": 8,
      "outputs": []
    },
    {
      "cell_type": "code",
      "metadata": {
        "id": "GfluJHAv4mxN"
      },
      "source": [
        "def preprocess_data(x, y, limit):\n",
        "    zero_index = np.where(y == 0)[0][:limit]\n",
        "    one_index = np.where(y == 1)[0][:limit]\n",
        "    all_indices = np.hstack((zero_index, one_index))\n",
        "    all_indices = np.random.permutation(all_indices)\n",
        "    x, y = x[all_indices], y[all_indices]\n",
        "    x = x.reshape(len(x), 1, 28, 28)\n",
        "    x = x.astype(\"float32\") / 255\n",
        "    y = np_utils.to_categorical(y)\n",
        "    y = y.reshape(len(y), 2, 1)\n",
        "    return x, y"
      ],
      "execution_count": 9,
      "outputs": []
    },
    {
      "cell_type": "code",
      "metadata": {
        "colab": {
          "base_uri": "https://localhost:8080/"
        },
        "id": "qQJUi93N5X42",
        "outputId": "5fa00b4a-5c12-4f1b-f05a-12345b9636f5"
      },
      "source": [
        "# load MNIST from server, limit to 100 images per class since we're not training on GPU\n",
        "(x_train, y_train), (x_test, y_test) = mnist.load_data()\n",
        "x_train, y_train = preprocess_data(x_train, y_train, 100)\n",
        "x_test, y_test = preprocess_data(x_test, y_test, 100)"
      ],
      "execution_count": 10,
      "outputs": [
        {
          "output_type": "stream",
          "name": "stdout",
          "text": [
            "Downloading data from https://storage.googleapis.com/tensorflow/tf-keras-datasets/mnist.npz\n",
            "11493376/11490434 [==============================] - 0s 0us/step\n",
            "11501568/11490434 [==============================] - 0s 0us/step\n"
          ]
        }
      ]
    },
    {
      "cell_type": "code",
      "metadata": {
        "id": "NTkTrqoK5YaF"
      },
      "source": [
        "# neural network\n",
        "network = [\n",
        "    Convolutional((1, 28, 28), 3, 5),\n",
        "    Sigmoid(),\n",
        "    Reshape((5, 26, 26), (5 * 26 * 26, 1)),\n",
        "    Dense(5 * 26 * 26, 100),\n",
        "    Sigmoid(),\n",
        "    Dense(100, 2),\n",
        "    Sigmoid()\n",
        "]"
      ],
      "execution_count": 11,
      "outputs": []
    },
    {
      "cell_type": "code",
      "metadata": {
        "id": "uERDLlPm5Z5H"
      },
      "source": [
        "epochs = 20\n",
        "learning_rate = 0.1"
      ],
      "execution_count": 12,
      "outputs": []
    },
    {
      "cell_type": "code",
      "metadata": {
        "colab": {
          "base_uri": "https://localhost:8080/"
        },
        "id": "hdEeWz905dJl",
        "outputId": "329d4920-4d3e-48ef-c218-7021419ab267"
      },
      "source": [
        "# train\n",
        "for e in range(epochs):\n",
        "    error = 0\n",
        "    for x, y in zip(x_train, y_train):\n",
        "        # forward\n",
        "        output = x\n",
        "        for layer in network:\n",
        "            output = layer.forward(output)\n",
        "\n",
        "        # error\n",
        "        error += binary_cross_entropy(y, output)\n",
        "\n",
        "        # backward\n",
        "        grad = binary_cross_entropy_prime(y, output)\n",
        "        for layer in reversed(network):\n",
        "            grad = layer.backward(grad, learning_rate)\n",
        "\n",
        "    error /= len(x_train)\n",
        "    print(f\"{e + 1}/{epochs}, error={error}\")"
      ],
      "execution_count": 13,
      "outputs": [
        {
          "output_type": "stream",
          "name": "stdout",
          "text": [
            "1/20, error=0.585678715171567\n",
            "2/20, error=0.12694391478889971\n",
            "3/20, error=0.04611783223490648\n",
            "4/20, error=0.03309759277607037\n",
            "5/20, error=0.018905125360547205\n",
            "6/20, error=0.010998649034354152\n",
            "7/20, error=0.008666414135609047\n",
            "8/20, error=0.0073379058088635695\n",
            "9/20, error=0.006426624659741542\n",
            "10/20, error=0.005702290730318146\n",
            "11/20, error=0.0051428645535232485\n",
            "12/20, error=0.0046954339790393415\n",
            "13/20, error=0.004327568954104508\n",
            "14/20, error=0.004018089228419378\n",
            "15/20, error=0.003752821303137382\n",
            "16/20, error=0.0035220088933799786\n",
            "17/20, error=0.0033186940345477844\n",
            "18/20, error=0.0031377500207065705\n",
            "19/20, error=0.0029752951050372413\n",
            "20/20, error=0.0028283128426082023\n"
          ]
        }
      ]
    },
    {
      "cell_type": "code",
      "metadata": {
        "colab": {
          "base_uri": "https://localhost:8080/"
        },
        "id": "s1RvfeUi5guF",
        "outputId": "0eeed5fc-e261-40fd-b77d-0a86870ddb6d"
      },
      "source": [
        "# test\n",
        "pred = []\n",
        "actual = []\n",
        "for x, y in zip(x_test, y_test):\n",
        "    output = x\n",
        "    for layer in network:\n",
        "      output = layer.forward(output)\n",
        "    pred.append(np.argmax(output))\n",
        "    actual.append(np.argmax(y))\n",
        "    print(f\"pred: {np.argmax(output)}, true: {np.argmax(y)}\")"
      ],
      "execution_count": 31,
      "outputs": [
        {
          "output_type": "stream",
          "name": "stdout",
          "text": [
            "pred: 1, true: 1\n",
            "pred: 0, true: 0\n",
            "pred: 0, true: 0\n",
            "pred: 1, true: 1\n",
            "pred: 1, true: 1\n",
            "pred: 1, true: 1\n",
            "pred: 1, true: 1\n",
            "pred: 1, true: 1\n",
            "pred: 0, true: 0\n",
            "pred: 1, true: 1\n",
            "pred: 1, true: 1\n",
            "pred: 1, true: 1\n",
            "pred: 0, true: 0\n",
            "pred: 0, true: 0\n",
            "pred: 1, true: 1\n",
            "pred: 0, true: 0\n",
            "pred: 1, true: 1\n",
            "pred: 1, true: 1\n",
            "pred: 0, true: 0\n",
            "pred: 0, true: 0\n",
            "pred: 1, true: 1\n",
            "pred: 0, true: 0\n",
            "pred: 0, true: 0\n",
            "pred: 1, true: 1\n",
            "pred: 0, true: 0\n",
            "pred: 1, true: 1\n",
            "pred: 0, true: 0\n",
            "pred: 1, true: 1\n",
            "pred: 1, true: 1\n",
            "pred: 1, true: 1\n",
            "pred: 1, true: 1\n",
            "pred: 1, true: 1\n",
            "pred: 0, true: 0\n",
            "pred: 1, true: 1\n",
            "pred: 0, true: 0\n",
            "pred: 1, true: 1\n",
            "pred: 1, true: 1\n",
            "pred: 1, true: 1\n",
            "pred: 1, true: 1\n",
            "pred: 1, true: 1\n",
            "pred: 0, true: 0\n",
            "pred: 0, true: 0\n",
            "pred: 0, true: 0\n",
            "pred: 0, true: 0\n",
            "pred: 0, true: 0\n",
            "pred: 1, true: 1\n",
            "pred: 1, true: 1\n",
            "pred: 1, true: 1\n",
            "pred: 0, true: 0\n",
            "pred: 1, true: 1\n",
            "pred: 0, true: 0\n",
            "pred: 1, true: 1\n",
            "pred: 0, true: 0\n",
            "pred: 1, true: 1\n",
            "pred: 0, true: 0\n",
            "pred: 0, true: 0\n",
            "pred: 0, true: 0\n",
            "pred: 1, true: 1\n",
            "pred: 0, true: 0\n",
            "pred: 0, true: 0\n",
            "pred: 0, true: 0\n",
            "pred: 0, true: 0\n",
            "pred: 1, true: 1\n",
            "pred: 0, true: 0\n",
            "pred: 0, true: 0\n",
            "pred: 1, true: 1\n",
            "pred: 1, true: 1\n",
            "pred: 0, true: 0\n",
            "pred: 1, true: 1\n",
            "pred: 0, true: 0\n",
            "pred: 0, true: 0\n",
            "pred: 1, true: 1\n",
            "pred: 1, true: 1\n",
            "pred: 1, true: 1\n",
            "pred: 0, true: 0\n",
            "pred: 1, true: 1\n",
            "pred: 1, true: 1\n",
            "pred: 1, true: 1\n",
            "pred: 0, true: 0\n",
            "pred: 1, true: 1\n",
            "pred: 0, true: 0\n",
            "pred: 1, true: 1\n",
            "pred: 1, true: 1\n",
            "pred: 0, true: 0\n",
            "pred: 1, true: 1\n",
            "pred: 1, true: 1\n",
            "pred: 1, true: 1\n",
            "pred: 0, true: 0\n",
            "pred: 0, true: 0\n",
            "pred: 0, true: 0\n",
            "pred: 1, true: 1\n",
            "pred: 1, true: 1\n",
            "pred: 0, true: 0\n",
            "pred: 0, true: 0\n",
            "pred: 0, true: 0\n",
            "pred: 1, true: 1\n",
            "pred: 1, true: 1\n",
            "pred: 1, true: 1\n",
            "pred: 1, true: 1\n",
            "pred: 0, true: 0\n",
            "pred: 0, true: 0\n",
            "pred: 0, true: 0\n",
            "pred: 1, true: 1\n",
            "pred: 0, true: 0\n",
            "pred: 0, true: 0\n",
            "pred: 0, true: 0\n",
            "pred: 1, true: 1\n",
            "pred: 0, true: 0\n",
            "pred: 1, true: 1\n",
            "pred: 0, true: 0\n",
            "pred: 0, true: 0\n",
            "pred: 0, true: 0\n",
            "pred: 1, true: 1\n",
            "pred: 0, true: 0\n",
            "pred: 0, true: 0\n",
            "pred: 1, true: 1\n",
            "pred: 0, true: 0\n",
            "pred: 0, true: 0\n",
            "pred: 1, true: 1\n",
            "pred: 1, true: 1\n",
            "pred: 1, true: 1\n",
            "pred: 0, true: 0\n",
            "pred: 1, true: 1\n",
            "pred: 0, true: 0\n",
            "pred: 1, true: 1\n",
            "pred: 0, true: 0\n",
            "pred: 0, true: 0\n",
            "pred: 0, true: 0\n",
            "pred: 0, true: 0\n",
            "pred: 0, true: 0\n",
            "pred: 0, true: 0\n",
            "pred: 1, true: 1\n",
            "pred: 0, true: 0\n",
            "pred: 0, true: 0\n",
            "pred: 0, true: 0\n",
            "pred: 1, true: 1\n",
            "pred: 1, true: 1\n",
            "pred: 1, true: 1\n",
            "pred: 0, true: 0\n",
            "pred: 1, true: 1\n",
            "pred: 0, true: 0\n",
            "pred: 1, true: 1\n",
            "pred: 0, true: 0\n",
            "pred: 1, true: 1\n",
            "pred: 0, true: 0\n",
            "pred: 0, true: 0\n",
            "pred: 1, true: 1\n",
            "pred: 0, true: 0\n",
            "pred: 1, true: 1\n",
            "pred: 0, true: 0\n",
            "pred: 0, true: 0\n",
            "pred: 1, true: 1\n",
            "pred: 0, true: 0\n",
            "pred: 0, true: 0\n",
            "pred: 1, true: 1\n",
            "pred: 0, true: 0\n",
            "pred: 0, true: 0\n",
            "pred: 1, true: 1\n",
            "pred: 0, true: 0\n",
            "pred: 0, true: 0\n",
            "pred: 0, true: 0\n",
            "pred: 0, true: 0\n",
            "pred: 1, true: 1\n",
            "pred: 0, true: 0\n",
            "pred: 0, true: 0\n",
            "pred: 0, true: 0\n",
            "pred: 1, true: 1\n",
            "pred: 0, true: 0\n",
            "pred: 1, true: 1\n",
            "pred: 1, true: 1\n",
            "pred: 1, true: 1\n",
            "pred: 1, true: 1\n",
            "pred: 1, true: 1\n",
            "pred: 0, true: 0\n",
            "pred: 1, true: 1\n",
            "pred: 1, true: 1\n",
            "pred: 0, true: 0\n",
            "pred: 1, true: 1\n",
            "pred: 0, true: 0\n",
            "pred: 0, true: 0\n",
            "pred: 1, true: 1\n",
            "pred: 0, true: 0\n",
            "pred: 0, true: 0\n",
            "pred: 1, true: 1\n",
            "pred: 0, true: 0\n",
            "pred: 1, true: 1\n",
            "pred: 1, true: 1\n",
            "pred: 1, true: 1\n",
            "pred: 1, true: 1\n",
            "pred: 1, true: 1\n",
            "pred: 0, true: 0\n",
            "pred: 1, true: 1\n",
            "pred: 1, true: 1\n",
            "pred: 0, true: 0\n",
            "pred: 0, true: 0\n",
            "pred: 1, true: 1\n",
            "pred: 1, true: 1\n",
            "pred: 0, true: 0\n",
            "pred: 1, true: 1\n",
            "pred: 1, true: 1\n"
          ]
        }
      ]
    },
    {
      "cell_type": "code",
      "metadata": {
        "colab": {
          "base_uri": "https://localhost:8080/"
        },
        "id": "a1kEfs_UgVXg",
        "outputId": "638dd8f5-f3db-4dd6-f70b-0df9c162ad3f"
      },
      "source": [
        "# confusion matrix\n",
        "from sklearn.metrics import confusion_matrix\n",
        "matrix = confusion_matrix(actual,pred, labels=[1,0])\n",
        "print('Confusion matrix : \\n',matrix)\n"
      ],
      "execution_count": 33,
      "outputs": [
        {
          "output_type": "stream",
          "name": "stdout",
          "text": [
            "Confusion matrix : \n",
            " [[100   0]\n",
            " [  0 100]]\n"
          ]
        }
      ]
    },
    {
      "cell_type": "code",
      "metadata": {
        "colab": {
          "base_uri": "https://localhost:8080/"
        },
        "id": "2ZMuaYZGkF44",
        "outputId": "6002d9a5-230d-4d9d-965e-3af358322aec"
      },
      "source": [
        "# classification report for precision, recall f1-score and accuracy\n",
        "from sklearn.metrics import classification_report\n",
        "matrix = classification_report(actual,pred,labels=[1,0])\n",
        "print('Classification report : \\n',matrix)"
      ],
      "execution_count": 34,
      "outputs": [
        {
          "output_type": "stream",
          "name": "stdout",
          "text": [
            "Classification report : \n",
            "               precision    recall  f1-score   support\n",
            "\n",
            "           1       1.00      1.00      1.00       100\n",
            "           0       1.00      1.00      1.00       100\n",
            "\n",
            "    accuracy                           1.00       200\n",
            "   macro avg       1.00      1.00      1.00       200\n",
            "weighted avg       1.00      1.00      1.00       200\n",
            "\n"
          ]
        }
      ]
    },
    {
      "cell_type": "code",
      "metadata": {
        "colab": {
          "base_uri": "https://localhost:8080/",
          "height": 282
        },
        "id": "8ANL-iZtktw_",
        "outputId": "8a9a60b6-d995-4f55-ed63-34e5d4ba3ff7"
      },
      "source": [
        "from sklearn.metrics import roc_curve\n",
        "from matplotlib import pyplot\n",
        "fpr, tpr, _ = roc_curve(actual, pred)\n",
        "# plot the roc curve for the model\n",
        "pyplot.plot(fpr, tpr, linestyle='--', label='CNN')"
      ],
      "execution_count": 36,
      "outputs": [
        {
          "output_type": "execute_result",
          "data": {
            "text/plain": [
              "[<matplotlib.lines.Line2D at 0x7fe05cc6da10>]"
            ]
          },
          "metadata": {},
          "execution_count": 36
        },
        {
          "output_type": "display_data",
          "data": {
            "image/png": "[encoded data removed]",
            "text/plain": [
              "<Figure size 432x288 with 1 Axes>"
            ]
          },
          "metadata": {
            "needs_background": "light"
          }
        }
      ]
    }
  ]
}